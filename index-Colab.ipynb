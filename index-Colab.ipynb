{
 "cells": [
  {
   "cell_type": "markdown",
   "id": "f114133d",
   "metadata": {},
   "source": [
    "# Seed Analysis Tutorial\n",
    "\n",
    "This is a full workflow that shows methods for counting and analyzing the shape and color of seeds. Similar methods should work for other types of seeds."
   ]
  },
  {
   "cell_type": "code",
   "execution_count": null,
   "id": "42347c4d-b66b-4688-92fe-c5555278b638",
   "metadata": {},
   "outputs": [],
   "source": [
    "# Install PlantCV and required dependencies\n",
    "%pip install \"altair>=5\" ipympl plantcv\n",
    "\n",
    "# Give access and mount your Google Drive (need a Google Account)\n",
    "# Change path to directory you wish output files to be saved to.\n",
    "from google.colab import drive\n",
    "drive.mount('/content/gdrive')\n",
    "\n",
    "# Enable widget feature with matplotlib\n",
    "from google.colab import output\n",
    "output.enable_custom_widget_manager()\n",
    "\n",
    "#View working directory, may need to change path\n",
    "%pwd"
   ]
  },
  {
   "cell_type": "code",
   "execution_count": null,
   "id": "acc77c46",
   "metadata": {},
   "outputs": [],
   "source": [
    "# Set the notebook display method\n",
    "# If widget is not working, then change to inline\n",
    "%matplotlib widget"
   ]
  },
  {
   "cell_type": "markdown",
   "id": "70ce0cc5-45ef-42b5-88d9-a60b0ceac221",
   "metadata": {
    "id": "604065b5"
   },
   "source": [
    "# Section 1: Importing Image and Libraries"
   ]
  },
  {
   "cell_type": "code",
   "execution_count": null,
   "id": "407d1b1b-bd6b-4eb1-9cf0-391d6bb08014",
   "metadata": {
    "id": "62ef791b"
   },
   "outputs": [],
   "source": [
    "# Import libraries\n",
    "from plantcv import plantcv as pcv\n",
    "from plantcv.parallel import WorkflowInputs\n",
    "\n",
    "# Print out the version of PlantCV being used by the Jupyter kernel\n",
    "pcv.__version__"
   ]
  },
  {
   "cell_type": "markdown",
   "id": "5658ed82-eaed-4d0e-a3f6-f8f793d9b36b",
   "metadata": {
    "id": "4468af74"
   },
   "source": [
    "## Input/Output variables\n",
    "\n",
    "The options class mimics the workflow command-line argument parser that is used for workflow parallelization. Using it while developing a workflow in Jupyter makes it easier to convert the workflow to a script later."
   ]
  },
  {
   "cell_type": "code",
   "execution_count": null,
   "id": "cfaf5b03",
   "metadata": {},
   "outputs": [],
   "source": [
    "# Input image into self.image (include file path if image is not in \n",
    "# the same folder as jupyter notebook)\n",
    "\n",
    "# Set self.debug to \"plot\" so that image outputs for each step is shown\n",
    "# once cell is run in jupyter notebooks (recommended)\n",
    "\n",
    "args = WorkflowInputs(\n",
    "    images=[\"./img/beans_img.jpg\"],\n",
    "    names=\"image1\",\n",
    "    result=\"seed_analysis_results.json\",\n",
    "    outdir=\".\",\n",
    "    writeimg=False,\n",
    "    debug=\"plot\")"
   ]
  },
  {
   "cell_type": "code",
   "execution_count": null,
   "id": "a2b487cc",
   "metadata": {},
   "outputs": [],
   "source": [
    "# Set debug to the global parameter\n",
    "pcv.params.debug = args.debug\n",
    "\n",
    "# Set plotting size (default = 100)\n",
    "pcv.params.dpi = 100\n",
    "\n",
    "# Increase text size and thickness to make labels clearer\n",
    "# (size may need to be altered based on original image size)\n",
    "pcv.params.text_size = 10\n",
    "pcv.params.text_thickness = 20"
   ]
  },
  {
   "cell_type": "markdown",
   "id": "47b3179d",
   "metadata": {},
   "source": [
    "## Read the input image"
   ]
  },
  {
   "attachments": {},
   "cell_type": "markdown",
   "id": "2e07c8ff-43c7-4ba7-85f4-15dded53fc2d",
   "metadata": {},
   "source": [
    "### Google Colaboratory users:\n",
    "If you are running this notebook using Google Colaboratory, you will need to use the cell below to complete the tutorial unless you cloned the repository from GitHub to your personal Google Drive account. Once you begin developing your workflow for your data, you can delete this text cell and the code cell below so you avoid any conflicts the next time you use this notebook."
   ]
  },
  {
   "cell_type": "code",
   "execution_count": null,
   "id": "29ee4522-01bd-4638-9239-f749cd9a9aad",
   "metadata": {},
   "outputs": [],
   "source": [
    "img = pcv.io.open_url(url=\"https://raw.githubusercontent.com/danforthcenter/plantcv-tutorial-seeds/main/img/beans_img.jpg\")"
   ]
  },
  {
   "cell_type": "markdown",
   "id": "582deff0-b177-4c11-a891-427ea604e003",
   "metadata": {},
   "source": [
    "### Local system use:\n",
    "If you have downloaded this notebook or the repository to your local device, then you will need to use the cell below to bring your image into the notebook. Do not run this line if you are navigating through the **tutorial** using Google Colaboratory.\n",
    "\n",
    "If you are developing your own workflow using this notebook, make sure you remove the code cell above with the URL and uncomment (remove the hashtag [#] to make the code active. This will call the image you defined during the Inputs/Outputs step."
   ]
  },
  {
   "cell_type": "markdown",
   "id": "1ed4561a-3095-4103-ae84-42675a67a828",
   "metadata": {
    "id": "Q4Na59TNNg1x"
   },
   "source": [
    "### Reading images into your environment using *pcv.readimage()*\n",
    "Inputs:\n",
    "   * filename = Image file to be read in\n",
    "   * mode     = How the image will be read into the notebook; either 'native' (default), 'rgb', 'gray', 'csv', or 'envi'"
   ]
  },
  {
   "cell_type": "code",
   "execution_count": null,
   "id": "83959434-b504-455c-9b83-1afd5e99adc0",
   "metadata": {
    "id": "03a085f7"
   },
   "outputs": [],
   "source": [
    "# img, path, filename = pcv.readimage(filename=args.image1)"
   ]
  },
  {
   "cell_type": "markdown",
   "id": "eff20a2f",
   "metadata": {},
   "source": [
    "# Section 2: Segmenting plant from background and identifying plant object(s)\n",
    "\n",
    "* Requires successful import of image\n",
    "* See Threshold Tools Tutorial tutorial for other functions that can be used to create a binary mask"
   ]
  },
  {
   "cell_type": "markdown",
   "id": "732c70a8",
   "metadata": {},
   "source": [
    "## Color correction\n",
    "\n",
    "Corrects the color of the input image based on the target color matrix using an affine transformation in the RGB space after automatic detection of a color card within the image."
   ]
  },
  {
   "cell_type": "code",
   "execution_count": null,
   "id": "b8c5279e",
   "metadata": {},
   "outputs": [],
   "source": [
    "corrected_rgb = pcv.transform.auto_correct_color(rgb_img=img)"
   ]
  },
  {
   "cell_type": "markdown",
   "id": "786418c4",
   "metadata": {},
   "source": [
    "## Crop image\n",
    "\n",
    "Cropping out aspects of the image that may interfere with the binary mask makes it easier to isolate plant material from background. This is also useful to save memory in these tutorials. "
   ]
  },
  {
   "cell_type": "code",
   "execution_count": null,
   "id": "c4a243d0",
   "metadata": {},
   "outputs": [],
   "source": [
    "# Inputs:\n",
    "#   img = color corrected image to get cropped\n",
    "#   x = top left x-coordinate\n",
    "#   y = top left y-coordinate\n",
    "#   h = height of final cropped image\n",
    "#   w = width of final cropped image\n",
    "crop_img = pcv.crop(img=corrected_rgb, x=250, y=1200, h=2600, w=2100)"
   ]
  },
  {
   "cell_type": "markdown",
   "id": "95a6e7d8",
   "metadata": {},
   "source": [
    "## Visualize colorspaces\n",
    "\n",
    "The visualization tool converts the color image into HSV and LAB colorspaces and displays the grayscale channels in a matrix so that they can be visualized simultaneously. The idea is to select a channel that maximizes the difference between the plant and the background pixels."
   ]
  },
  {
   "cell_type": "code",
   "execution_count": null,
   "id": "ba9e0966",
   "metadata": {},
   "outputs": [],
   "source": [
    "# Inputs:\n",
    "#   rbg_img      = cropped image\n",
    "colorspace_img = pcv.visualize.colorspaces(rgb_img=crop_img)"
   ]
  },
  {
   "cell_type": "markdown",
   "id": "01a40bf6",
   "metadata": {},
   "source": [
    "## Convert the color image to grayscale\n",
    "\n",
    "Converts the input color image into the LAB colorspace and returns the L (lightness) channel as a grayscale image."
   ]
  },
  {
   "cell_type": "code",
   "execution_count": null,
   "id": "12cc6818",
   "metadata": {},
   "outputs": [],
   "source": [
    "# Inputs:\n",
    "#   rbg_img - cropped image \n",
    "#   channel - desired colorspace ('l', 'a', or 'b')\n",
    "b_img = pcv.rgb2gray_lab(rgb_img=crop_img, channel='l')\n",
    "\n",
    "#Channel L is used because it provides the best separation of seeds from background."
   ]
  },
  {
   "cell_type": "markdown",
   "id": "dfbb44f9",
   "metadata": {},
   "source": [
    "## Visualize the distribution of grayscale values\n",
    "\n",
    "A histogram can be used to visualize the distribution of values in an image. The histogram can aid in the selection of a threshold value.\n",
    "\n",
    "For this image, the large peak between 160-220 are from the brighter background pixels. The smaller peak between 60-120 are the darker seed pixels."
   ]
  },
  {
   "cell_type": "code",
   "execution_count": null,
   "id": "ff980310",
   "metadata": {},
   "outputs": [],
   "source": [
    "# Inputs:\n",
    "#   img         = gray image in selected colorspace\n",
    "#   mask        = None (default), or mask\n",
    "#   bins        = 100 (default) or number of desired number of evenly spaced bins\n",
    "#   lower-bound = None (default) or minimum value on x-axis\n",
    "#   upper-bound = None (default) or maximum value on x-axis\n",
    "#   title       = None (default) or custom plot title\n",
    "#   hist_data   = False (default) or True (if frequency distribution data is desired)\n",
    "hist = pcv.visualize.histogram(img=b_img)"
   ]
  },
  {
   "cell_type": "markdown",
   "id": "6ee922c6",
   "metadata": {},
   "source": [
    "## Threshold the grayscale image\n",
    "Use a threshold function (binary in this case) to segment the grayscale image into plant (white) and background (black) pixels. Using the histogram above, a threshold point between 130-150 will segment the plant and background peaks. Because the seeds are the lighter pixels in this image, use object_type=\"light\" to do a traditional threshold."
   ]
  },
  {
   "cell_type": "code",
   "execution_count": null,
   "id": "86f79405",
   "metadata": {},
   "outputs": [],
   "source": [
    "# Inputs:\n",
    "#   gray_img    = black and white image created from selected colorspace\n",
    "#   threshold   = cutoff pixel intensity value (all pixels below value will become black, all above will become white)\n",
    "#   object_type = 'dark' or 'light' depending on if seeds are darker or lighter than background.\n",
    "b_thresh = pcv.threshold.binary(gray_img=b_img, threshold=120, object_type='dark') "
   ]
  },
  {
   "cell_type": "markdown",
   "id": "a58de864",
   "metadata": {},
   "source": [
    "## Remove small background noise\n",
    "\n",
    "Thresholding mostly labeled plant pixels white but also labeled small regions of the background white. The fill function removes \"salt\" noise from the background by filtering white regions by size."
   ]
  },
  {
   "cell_type": "code",
   "execution_count": null,
   "id": "eb437dec",
   "metadata": {},
   "outputs": [],
   "source": [
    "# Inputs:\n",
    "#   bin_img - binary mask image\n",
    "#   size - maximum size for objects that should be filled in as background (non-plant) pixels\n",
    "b_fill_salt = pcv.fill(bin_img=b_thresh, size=500)"
   ]
  },
  {
   "cell_type": "markdown",
   "id": "7c4dcd4e",
   "metadata": {},
   "source": [
    "## Fill holes within objects\n",
    "\n",
    "Thresholding labeled almost all plant pixels white but left some holes. This function cleans \"pepper\" noise (black holes) by doing a flood fill."
   ]
  },
  {
   "cell_type": "code",
   "execution_count": null,
   "id": "35386393",
   "metadata": {},
   "outputs": [],
   "source": [
    "# Inputs:\n",
    "#   bin_img - binary mask image\n",
    "b_fill = pcv.fill_holes(bin_img=b_fill_salt)\n",
    "#                                         "
   ]
  },
  {
   "cell_type": "markdown",
   "id": "c8badcf2",
   "metadata": {},
   "source": [
    "# Section 3: Count and Analyze Seeds\n",
    "\n",
    "* Need a completed binary mask"
   ]
  },
  {
   "cell_type": "markdown",
   "id": "40052242",
   "metadata": {},
   "source": [
    "## Count seeds\n",
    "\n",
    "Count the number of seeds (simple objects) by accessing the number of values stores in the second item of the object list."
   ]
  },
  {
   "cell_type": "markdown",
   "id": "643902c7",
   "metadata": {},
   "source": [
    "## Measure each seed\n",
    "\n",
    "1. Create labeled mask\n",
    "2. Analyze seed shape\n",
    "3. Analyze seed color"
   ]
  },
  {
   "cell_type": "code",
   "execution_count": null,
   "id": "defb6661",
   "metadata": {},
   "outputs": [],
   "source": [
    "#Labeled mask is the mask which labels each individual seed to allow it to be measured.\n",
    "\n",
    "        #Inputs:\n",
    "        #   Mask = mask created earlier in workflow\n",
    "\n",
    "labeled_mask, num = pcv.create_labels(mask=b_fill)"
   ]
  },
  {
   "cell_type": "code",
   "execution_count": null,
   "id": "2cb11ee2",
   "metadata": {},
   "outputs": [],
   "source": [
    "#Find number of objects in image. Num=number of seeds captured in image.\n",
    "\n",
    "print (num)"
   ]
  },
  {
   "cell_type": "code",
   "execution_count": null,
   "id": "79326f78",
   "metadata": {},
   "outputs": [],
   "source": [
    "# Analyze shape and size perameters of each seed\n",
    "\n",
    "        # Inputs:\n",
    "        #   img = rgb image\n",
    "        #   labeled_mask = Labeled mask of objects (32-bit).\n",
    "        #   n_labels = Total number expected individual objects (default = 1).\n",
    "        #   label = Optional label parameter, modifies the variable name of\n",
    "        #           observations recorded (default = pcv.params.sample_label)\n",
    "shape_img = pcv.analyze.size(img=crop_img, labeled_mask=labeled_mask, n_labels=num, label=\"seed\")"
   ]
  },
  {
   "cell_type": "code",
   "execution_count": null,
   "id": "9cae7ecd",
   "metadata": {},
   "outputs": [],
   "source": [
    "# Analyze color of each seed\n",
    "        \n",
    "        # Inputs:\n",
    "        #   img = rgb image\n",
    "        #   labeled_mask = Labeled mask of objects (32-bit).\n",
    "        #   hist_plot_type = 'hsv', or None for no histogram plot\n",
    "        #   n_labels = Total number expected individual objects (default = 1).\n",
    "        #   label = Optional label parameter, modifies the variable name of\n",
    "        #           observations recorded (default = pcv.params.sample_label)\n",
    "analysis_image = pcv.analyze.color(rgb_img=crop_img, labeled_mask=labeled_mask, n_labels=num, colorspaces=\"hsv\", label=\"seed\")"
   ]
  },
  {
   "cell_type": "markdown",
   "id": "6ea841fb",
   "metadata": {},
   "source": [
    "## Save results\n",
    "\n",
    "During analysis, measurements are stored in the background in the outputs recorder.\n",
    "\n",
    "This example includes image analysis for 'area', 'convex_hull_area', 'solidity', 'perimeter', 'width', 'height', 'longest_path', 'center_of_mass, 'convex_hull_vertices', 'object_in_frame', 'ellipse_center', 'ellipse_major_axis', 'ellipse_minor_axis', 'ellipse_angle', 'ellipse_eccentricity' using anayze_object and color analysis using analyze_color.\n",
    "\n",
    "Here, results are saved to JSON file, and this allows for database concatenation while running workflows in parallel."
   ]
  },
  {
   "cell_type": "code",
   "execution_count": null,
   "id": "0d011dbe",
   "metadata": {},
   "outputs": [],
   "source": [
    "# Inputs:\n",
    "#   filename  = filename for saving results\n",
    "#   outformat = output file format: \"json\" (default) hierarchical format or \"csv\" tabular format\n",
    "pcv.outputs.save_results(filename=args.result, outformat=\"json\")"
   ]
  },
  {
   "cell_type": "code",
   "execution_count": null,
   "id": "e67fe3f2",
   "metadata": {},
   "outputs": [],
   "source": []
  }
 ],
 "metadata": {
  "kernelspec": {
   "display_name": "pcvadd",
   "language": "python",
   "name": "python3"
  },
  "language_info": {
   "codemirror_mode": {
    "name": "ipython",
    "version": 3
   },
   "file_extension": ".py",
   "mimetype": "text/x-python",
   "name": "python",
   "nbconvert_exporter": "python",
   "pygments_lexer": "ipython3",
   "version": "3.11.10"
  }
 },
 "nbformat": 4,
 "nbformat_minor": 5
}
